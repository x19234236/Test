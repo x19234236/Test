{
 "cells": [
  {
   "cell_type": "code",
   "execution_count": 329,
   "metadata": {},
   "outputs": [],
   "source": [
    "### API CALL"
   ]
  },
  {
   "cell_type": "code",
   "execution_count": null,
   "metadata": {},
   "outputs": [],
   "source": [
    "#############################################Retrieving data Starts here####################################################"
   ]
  },
  {
   "cell_type": "code",
   "execution_count": 366,
   "metadata": {},
   "outputs": [],
   "source": [
    "import urllib.request\n",
    "import urllib.parse\n",
    "import json\n",
    "import plotly.graph_objects as go\n",
    "import plotly.figure_factory as ff\n",
    "import plotly.express as px"
   ]
  },
  {
   "cell_type": "code",
   "execution_count": null,
   "metadata": {},
   "outputs": [],
   "source": [
    "#Function to make API call and return the response\n",
    "def api_call(url):\n",
    "    with urllib.request.urlopen(url) as response:\n",
    "        response = json.loads(response.read())\n",
    "    return response"
   ]
  },
  {
   "cell_type": "code",
   "execution_count": 339,
   "metadata": {},
   "outputs": [],
   "source": [
    "#Calling the API to retrieve records\n",
    "url = \"https://failteireland.azure-api.net/opendata-api/v1/activities\"\n",
    "previous_response = api_call(url)"
   ]
  },
  {
   "cell_type": "code",
   "execution_count": 340,
   "metadata": {},
   "outputs": [],
   "source": [
    "#Taking the url for next API Call\n",
    "df_prev = pd.DataFrame(previous_response['results'])"
   ]
  },
  {
   "cell_type": "code",
   "execution_count": null,
   "metadata": {},
   "outputs": [],
   "source": [
    "#Calling the subsequent API to retrieve the records\n",
    "next_response = previous_response\n",
    "import time\n",
    "for i in range(0,17):\n",
    "    print(\"Outer loop {}\".format(i))\n",
    "    for count in range(0,8):\n",
    "            print(\"Inner loop {}\".format(count))\n",
    "            url = next_response['nextPage']\n",
    "            next_response = api_call(url)\n",
    "            df_next = pd.DataFrame(next_response['results'])\n",
    "            df_prev = pd.concat([df_prev, df_next], ignore_index=True)\n",
    "    time.sleep(40) "
   ]
  },
  {
   "cell_type": "code",
   "execution_count": null,
   "metadata": {},
   "outputs": [],
   "source": [
    "#############################################Retrieving data Ends here####################################################"
   ]
  },
  {
   "cell_type": "code",
   "execution_count": null,
   "metadata": {},
   "outputs": [],
   "source": [
    "#############################################Data Preprocessing Starts here####################################################"
   ]
  },
  {
   "cell_type": "code",
   "execution_count": 345,
   "metadata": {},
   "outputs": [],
   "source": [
    "#Removing unwanted columns\n",
    "df_prev.drop('image',\n",
    "  axis='columns', inplace=True)"
   ]
  },
  {
   "cell_type": "code",
   "execution_count": 349,
   "metadata": {},
   "outputs": [],
   "source": [
    "df = df_prev.copy()\n",
    "region_list = []\n",
    "#Changing the names of columns\n",
    "df.rename(columns={'name' : 'restaurant_name', \n",
    "                   'url' : 'website', \n",
    "                   'tags' : 'activities'}, inplace = True)"
   ]
  },
  {
   "cell_type": "code",
   "execution_count": 352,
   "metadata": {},
   "outputs": [],
   "source": [
    "#Splitting address object into Counties and Country\n",
    "county_list = []\n",
    "country_list = []\n",
    "locality_list = []\n",
    "for address in df['address']:\n",
    "    county_list.append(address['addressRegion'])\n",
    "    country_list.append(address['addressCountry'])\n",
    "    locality_list.append(address['addressLocality'])\n",
    "               \n",
    "county_list =  pd.Series(county_list)\n",
    "country_list =  pd.Series(country_list)\n",
    "locality_list =  pd.Series(locality_list)       \n",
    "df['locality_list'] = locality_list\n",
    "df['addressRegion'] = county_list\n",
    "df['addressCounty'] = country_list"
   ]
  },
  {
   "cell_type": "code",
   "execution_count": 357,
   "metadata": {},
   "outputs": [],
   "source": [
    "#Splitting the activities\n",
    "activities_array = []\n",
    "for activities in df['activities']:\n",
    "    for activity in activities:\n",
    "        if activity not in activities_array:\n",
    "            activities_array.append(activity)\n",
    "            #Creating a column in df\n",
    "            df[activity] = 0"
   ]
  },
  {
   "cell_type": "code",
   "execution_count": 359,
   "metadata": {},
   "outputs": [],
   "source": [
    "#Put values in the activities column\n",
    "row_count = 0\n",
    "for activities in df['activities']:\n",
    "    for activity in activities:\n",
    "        if activity in activities_array:\n",
    "            df[activity][row_count] = 1\n",
    "    row_count = row_count+1"
   ]
  },
  {
   "cell_type": "code",
   "execution_count": 365,
   "metadata": {},
   "outputs": [],
   "source": [
    "#Converting the type of the columns\n",
    "df['Wild Atlantic Way'] = pd.to_numeric(df['Wild Atlantic Way'])"
   ]
  },
  {
   "cell_type": "code",
   "execution_count": 360,
   "metadata": {},
   "outputs": [],
   "source": [
    "#Converting the Dataframe into CSV\n",
    "df.to_csv(\"Activities.csv\", header=True)"
   ]
  },
  {
   "cell_type": "code",
   "execution_count": null,
   "metadata": {},
   "outputs": [],
   "source": [
    "################################################Data Preprocessing Ends#####################################################"
   ]
  },
  {
   "cell_type": "code",
   "execution_count": 363,
   "metadata": {},
   "outputs": [
    {
     "data": {
      "text/plain": [
       "pandas.core.frame.DataFrame"
      ]
     },
     "execution_count": 363,
     "metadata": {},
     "output_type": "execute_result"
    }
   ],
   "source": [
    "###############################################Visualization Starts here####################################################"
   ]
  },
  {
   "cell_type": "code",
   "execution_count": null,
   "metadata": {},
   "outputs": [],
   "source": [
    "chart_cols = ['min_temperature','max_temperature']\n",
    "filtered_data = df.loc['2021-01-01':'2021-01-31',chart_cols].reset_index()\n",
    "filtered_data.columns = ['Date','Minimum','Maximum']\n",
    "fig = px.line(filtered_data,\n",
    "              x = 'Date',\n",
    "              y = ['Minimum','Maximum'],\n",
    "              labels = {'variable' : 'Series', 'value' : 'Temperature (&deg; C)'},\n",
    "              title = 'Minimum and maximum temperatures at Dunsany, January 2021')\n",
    "fig.show()"
   ]
  },
  {
   "cell_type": "code",
   "execution_count": null,
   "metadata": {},
   "outputs": [],
   "source": [
    "chart_cols = ['min_temperature','max_temperature']\n",
    "filtered_data = df.loc['2021-01-01':'2021-01-31',chart_cols].reset_index()\n",
    "filtered_data.columns = ['Date','Minimum','Maximum']\n",
    "fig = px.line(filtered_data,\n",
    "              x = 'Date',\n",
    "              y = ['Minimum','Maximum'],\n",
    "              labels = {'variable' : 'Series', 'value' : 'Temperature (&deg; C)'},\n",
    "              title = 'Minimum and maximum temperatures at Dunsany, January 2021')\n",
    "fig.show()"
   ]
  }
 ],
 "metadata": {
  "kernelspec": {
   "display_name": "Python 3",
   "language": "python",
   "name": "python3"
  },
  "language_info": {
   "codemirror_mode": {
    "name": "ipython",
    "version": 3
   },
   "file_extension": ".py",
   "mimetype": "text/x-python",
   "name": "python",
   "nbconvert_exporter": "python",
   "pygments_lexer": "ipython3",
   "version": "3.8.5"
  }
 },
 "nbformat": 4,
 "nbformat_minor": 4
}
